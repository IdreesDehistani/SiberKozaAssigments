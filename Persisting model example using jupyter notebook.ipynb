{
 "cells": [
  {
   "cell_type": "code",
   "execution_count": 1,
   "id": "4e323123",
   "metadata": {},
   "outputs": [
    {
     "name": "stdout",
     "output_type": "stream",
     "text": [
      "Prediction: [0 0]\n"
     ]
    },
    {
     "name": "stderr",
     "output_type": "stream",
     "text": [
      "/Users/user/opt/anaconda3/lib/python3.9/site-packages/sklearn/linear_model/_logistic.py:444: ConvergenceWarning: lbfgs failed to converge (status=1):\n",
      "STOP: TOTAL NO. of ITERATIONS REACHED LIMIT.\n",
      "\n",
      "Increase the number of iterations (max_iter) or scale the data as shown in:\n",
      "    https://scikit-learn.org/stable/modules/preprocessing.html\n",
      "Please also refer to the documentation for alternative solver options:\n",
      "    https://scikit-learn.org/stable/modules/linear_model.html#logistic-regression\n",
      "  n_iter_i = _check_optimize_result(\n"
     ]
    }
   ],
   "source": [
    "#Here's an example of a program in a Jupyter Notebook that demonstrates how to persist a trained machine learning model:\n",
    "#IDREES\n",
    "\n",
    "# Import necessary libraries\n",
    "import pickle\n",
    "from sklearn.linear_model import LogisticRegression\n",
    "from sklearn.datasets import load_iris\n",
    "\n",
    "# Load the iris dataset\n",
    "iris = load_iris()\n",
    "X, y = iris.data, iris.target\n",
    "\n",
    "# Train a logistic regression model\n",
    "clf = LogisticRegression(random_state=0, solver='lbfgs', multi_class='multinomial')\n",
    "clf.fit(X, y)\n",
    "\n",
    "# Persist the model to disk\n",
    "filename = 'persisted_model.pkl'\n",
    "with open(filename, 'wb') as f:\n",
    "    pickle.dump(clf, f)\n",
    "\n",
    "# Load the persisted model from disk\n",
    "with open(filename, 'rb') as f:\n",
    "    clf_loaded = pickle.load(f)\n",
    "\n",
    "# Use the loaded model to make predictions\n",
    "result = clf_loaded.predict(X[:2, :])\n",
    "print(\"Prediction:\", result)\n",
    "\n",
    "#In this example, the iris dataset is loaded, and a logistic regression model is trained on the data. The trained model is then persisted to disk using the pickle library. The persisted model is then loaded from disk and used to make predictions on a sample of the data. This demonstrates how you can save a trained model and reuse it later without having to retrain the model every time you need to use it."
   ]
  },
  {
   "cell_type": "code",
   "execution_count": null,
   "id": "63989a10",
   "metadata": {},
   "outputs": [],
   "source": []
  }
 ],
 "metadata": {
  "kernelspec": {
   "display_name": "Python 3 (ipykernel)",
   "language": "python",
   "name": "python3"
  },
  "language_info": {
   "codemirror_mode": {
    "name": "ipython",
    "version": 3
   },
   "file_extension": ".py",
   "mimetype": "text/x-python",
   "name": "python",
   "nbconvert_exporter": "python",
   "pygments_lexer": "ipython3",
   "version": "3.9.13"
  }
 },
 "nbformat": 4,
 "nbformat_minor": 5
}
