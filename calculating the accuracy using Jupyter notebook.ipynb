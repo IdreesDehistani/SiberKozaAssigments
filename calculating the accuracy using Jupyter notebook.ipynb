{
 "cells": [
  {
   "cell_type": "code",
   "execution_count": 6,
   "id": "80f44baf",
   "metadata": {},
   "outputs": [
    {
     "name": "stdout",
     "output_type": "stream",
     "text": [
      "Accuracy: 0.9\n"
     ]
    }
   ],
   "source": [
    "#this is an example that calculates the accuracy of a binary classification model in a real-life problem of detecting whether an email is spam or not.\n",
    "\n",
    "\n",
    "#IDREES\n",
    "# Import necessary libraries\n",
    "import numpy as ID\n",
    "\n",
    "# Define the true and predicted labels\n",
    "true_labels = ID.array([0, 0, 0, 1, 0, 1, 0, 0, 1, 1])\n",
    "predicted_labels = ID.array([0, 0, 0, 1, 0, 1, 1, 0, 1, 1])\n",
    "\n",
    "# Calculate the accuracy\n",
    "accuracy = ID.mean(true_labels == predicted_labels)\n",
    "\n",
    "# Print the accuracy\n",
    "print(\"Accuracy:\", accuracy)\n",
    "\n",
    "#In this example, the true labels represent the actual labels of the emails being either spam (1) or not spam (0). The predicted labels are the labels predicted by the binary classification model. The accuracy is calculated as the ratio of the number of correctly classified emails to the total number of emails.\n",
    "\n",
    "\n",
    "\n"
   ]
  },
  {
   "cell_type": "code",
   "execution_count": null,
   "id": "b98852ca",
   "metadata": {},
   "outputs": [],
   "source": []
  },
  {
   "cell_type": "code",
   "execution_count": null,
   "id": "07593370",
   "metadata": {},
   "outputs": [],
   "source": []
  }
 ],
 "metadata": {
  "kernelspec": {
   "display_name": "Python 3 (ipykernel)",
   "language": "python",
   "name": "python3"
  },
  "language_info": {
   "codemirror_mode": {
    "name": "ipython",
    "version": 3
   },
   "file_extension": ".py",
   "mimetype": "text/x-python",
   "name": "python",
   "nbconvert_exporter": "python",
   "pygments_lexer": "ipython3",
   "version": "3.9.13"
  }
 },
 "nbformat": 4,
 "nbformat_minor": 5
}
